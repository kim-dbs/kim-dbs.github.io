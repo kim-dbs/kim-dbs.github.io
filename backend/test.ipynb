{
 "cells": [
  {
   "cell_type": "code",
   "execution_count": 10,
   "metadata": {},
   "outputs": [
    {
     "name": "stdout",
     "output_type": "stream",
     "text": [
      "https://kdb-resource.services.ai.azure.com/models\n",
      "BNc47vJOJqU2sohJRw53TLuQcXwEWV5AcXICFQyMvOHbBBcUpkfGJQQJ99BFACYeBjFXJ3w3AAAAACOGltAv\n"
     ]
    }
   ],
   "source": [
    "from dotenv import load_dotenv\n",
    "import os\n",
    "load_dotenv()\n",
    "\n",
    "print(os.environ[\"AZURE_INFERENCE_ENDPOINT\"])\n",
    "print(os.environ[\"AZURE_API_KEY\"])"
   ]
  },
  {
   "cell_type": "code",
   "execution_count": 16,
   "metadata": {},
   "outputs": [],
   "source": [
    "import os\n",
    "from langchain_azure_ai.chat_models import AzureAIChatCompletionsModel\n",
    "\n",
    "model = AzureAIChatCompletionsModel(\n",
    "    endpoint=os.environ[\"AZURE_INFERENCE_ENDPOINT\"],\n",
    "    credential=os.environ[\"AZURE_API_KEY\"],\n",
    "    model=\"grok-3\",\n",
    ")\n"
   ]
  },
  {
   "cell_type": "code",
   "execution_count": 23,
   "metadata": {},
   "outputs": [],
   "source": [
    "from azure.identity.aio import (\n",
    "    DefaultAzureCredential as DefaultAzureCredentialAsync,\n",
    ")\n",
    "from langchain_azure_ai.chat_models import AzureAIChatCompletionsModel\n",
    "\n",
    "async_model = AzureAIChatCompletionsModel(\n",
    "    endpoint=os.environ[\"AZURE_INFERENCE_ENDPOINT\"],\n",
    "    credential=os.environ[\"AZURE_API_KEY\"],\n",
    "    model=\"grok-3\",\n",
    ")"
   ]
  },
  {
   "cell_type": "code",
   "execution_count": 24,
   "metadata": {},
   "outputs": [
    {
     "data": {
      "text/plain": [
       "AIMessage(content='안녕! 나는 그로크(Grok)라고 해, xAI라는 회사에서 만든 AI 챗봇이야. 사람들의 질문에 도움이 되는 답변을 제공하고, 다양한 주제에 대해 대화를 나누는 걸 좋아해. 궁금한 게 있거나 도움が必要하면 언제든 물어봐!', additional_kwargs={}, response_metadata={'model': 'grok-3', 'token_usage': {'input_tokens': 37, 'output_tokens': 72, 'total_tokens': 109}, 'finish_reason': 'stop'}, id='run--13ad24b5-83e3-4ba7-9911-ab3c59730895-0', usage_metadata={'input_tokens': 37, 'output_tokens': 72, 'total_tokens': 109})"
      ]
     },
     "execution_count": 24,
     "metadata": {},
     "output_type": "execute_result"
    }
   ],
   "source": [
    "from langchain_core.messages import HumanMessage, SystemMessage\n",
    "\n",
    "messages = [\n",
    "    SystemMessage(content=\"당신은 챗봇입니다. 사용자의 질문에 대해 답변해주세요.\"),\n",
    "    HumanMessage(content=\"넌누군지말해봐\"),\n",
    "]\n",
    "\n",
    "async_model.invoke(messages)"
   ]
  },
  {
   "cell_type": "code",
   "execution_count": null,
   "metadata": {},
   "outputs": [],
   "source": []
  }
 ],
 "metadata": {
  "kernelspec": {
   "display_name": "azure",
   "language": "python",
   "name": "python3"
  },
  "language_info": {
   "codemirror_mode": {
    "name": "ipython",
    "version": 3
   },
   "file_extension": ".py",
   "mimetype": "text/x-python",
   "name": "python",
   "nbconvert_exporter": "python",
   "pygments_lexer": "ipython3",
   "version": "3.13.4"
  }
 },
 "nbformat": 4,
 "nbformat_minor": 2
}
